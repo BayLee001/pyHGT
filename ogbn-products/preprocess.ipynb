{
 "cells": [
  {
   "cell_type": "code",
   "execution_count": 1,
   "metadata": {},
   "outputs": [
    {
     "name": "stderr",
     "output_type": "stream",
     "text": [
      "Using backend: pytorch\n"
     ]
    }
   ],
   "source": [
    "from pyHGT.data import *\n",
    "from pyHGT.utils import *\n",
    "from ogb.nodeproppred import PygNodePropPredDataset\n",
    "\n",
    "\n",
    "import sys\n",
    "sys.argv=['']\n",
    "del sys\n",
    "\n",
    "import argparse\n",
    "\n",
    "parser = argparse.ArgumentParser(description='Preprocess ogbn-mag graph')\n",
    "\n",
    "'''\n",
    "    Dataset arguments\n",
    "'''\n",
    "parser.add_argument('--output_dir', type=str, default='/datadrive/dataset/OGB_papers100M.pk',\n",
    "                    help='The address to output the preprocessed graph.')\n",
    "\n",
    "args = parser.parse_args()"
   ]
  },
  {
   "cell_type": "code",
   "execution_count": 2,
   "metadata": {},
   "outputs": [],
   "source": [
    "dataset = PygNodePropPredDataset(name='ogbn-products', root = '/datadrive/dataset')"
   ]
  },
  {
   "cell_type": "code",
   "execution_count": 3,
   "metadata": {},
   "outputs": [],
   "source": [
    "data = dataset[0]\n",
    "graph = Graph()"
   ]
  },
  {
   "cell_type": "code",
   "execution_count": null,
   "metadata": {},
   "outputs": [],
   "source": [
    "elist = graph.edge_list['def']['def']['def']\n",
    "for s_id, t_id in tqdm(data.edge_index.t().tolist()):\n",
    "    elist[t_id][s_id] = 1\n",
    "    elist[s_id][t_id] = 1\n"
   ]
  },
  {
   "cell_type": "code",
   "execution_count": 5,
   "metadata": {},
   "outputs": [
    {
     "name": "stdout",
     "output_type": "stream",
     "text": [
      "def def def 2400608\n"
     ]
    }
   ],
   "source": [
    "edg = {}\n",
    "deg = {'def' : np.zeros(len(data.y))}\n",
    "for k1 in graph.edge_list:\n",
    "    if k1 not in edg:\n",
    "        edg[k1] = {}\n",
    "    for k2 in graph.edge_list[k1]:\n",
    "        if k2 not in edg[k1]:\n",
    "            edg[k1][k2] = {}\n",
    "        for k3 in graph.edge_list[k1][k2]:\n",
    "            if k3 not in edg[k1][k2]:\n",
    "                edg[k1][k2][k3] = {}\n",
    "            for e1 in graph.edge_list[k1][k2][k3]:\n",
    "                if len(graph.edge_list[k1][k2][k3][e1]) == 0:\n",
    "                    continue\n",
    "                \n",
    "                edg[k1][k2][k3][e1] = {}\n",
    "                for e2 in graph.edge_list[k1][k2][k3][e1]:\n",
    "                    edg[k1][k2][k3][e1][e2] = graph.edge_list[k1][k2][k3][e1][e2]\n",
    "                deg[k1][e1] += len(edg[k1][k2][k3][e1])\n",
    "            print(k1, k2, k3, len(edg[k1][k2][k3]))\n",
    "graph.edge_list = edg"
   ]
  },
  {
   "cell_type": "code",
   "execution_count": 13,
   "metadata": {},
   "outputs": [],
   "source": [
    "y = data.y.t().numpy()[0]\n",
    "split_idx = dataset.get_idx_split()\n",
    "train_paper = split_idx['train'].numpy()\n",
    "valid_paper = split_idx['valid'].numpy()\n",
    "test_paper  = split_idx['test'].numpy()\n",
    "\n",
    "cv = data.x.numpy()\n",
    "graph.node_feature['def'] = np.concatenate((cv, np.log10((1e-10 + deg['def']).reshape(-1, 1))), axis=-1)\n",
    "\n",
    "graph.y = data.y\n",
    "graph.train_paper = train_paper\n",
    "graph.valid_paper = valid_paper\n",
    "graph.test_paper  = test_paper\n",
    "\n",
    "\n",
    "graph.train_mask = np.zeros(len(graph.node_feature['def']), dtype=bool)\n",
    "graph.train_mask[graph.train_paper] = True\n",
    "\n",
    "graph.valid_mask = np.zeros(len(graph.node_feature['def']), dtype=bool)\n",
    "graph.valid_mask[graph.valid_paper] = True\n",
    "\n",
    "graph.test_mask = np.zeros(len(graph.node_feature['def']),  dtype=bool)\n",
    "graph.test_mask[graph.test_paper] = True"
   ]
  },
  {
   "cell_type": "code",
   "execution_count": 14,
   "metadata": {},
   "outputs": [],
   "source": [
    "dill.dump(graph, open('/datadrive/dataset/OGB_products.pk', 'wb'))"
   ]
  }
 ],
 "metadata": {
  "kernelspec": {
   "display_name": "Python 3",
   "language": "python",
   "name": "python3"
  },
  "language_info": {
   "codemirror_mode": {
    "name": "ipython",
    "version": 3
   },
   "file_extension": ".py",
   "mimetype": "text/x-python",
   "name": "python",
   "nbconvert_exporter": "python",
   "pygments_lexer": "ipython3",
   "version": "3.7.6"
  }
 },
 "nbformat": 4,
 "nbformat_minor": 4
}
